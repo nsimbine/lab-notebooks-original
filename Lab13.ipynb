{
  "cells": [
    {
      "cell_type": "markdown",
      "metadata": {
        "id": "nN7-AA_pC8nL"
      },
      "source": [
        "## <a href=\"https://colab.research.google.com/github/LMU-CMSI-1010/lab-notebooks-original/blob/main/Lab13.ipynb\" target=\"_parent\"><img src=\"https://colab.research.google.com/assets/colab-badge.svg\" alt=\"Open In Colab\"/></a>"
      ]
    },
    {
      "cell_type": "markdown",
      "metadata": {
        "id": "9aXfrLXg9seM"
      },
      "source": [
        "# Lab 13 Making classes\n",
        "In this lab you will complete the dog class from the slides and create a class for a person to be the owner of the dog. You will also create a class for complex numbers."
      ]
    },
    {
      "cell_type": "markdown",
      "metadata": {
        "id": "cFmY8Nj8OVf4"
      },
      "source": [
        "## Dog Class from the Slides\n",
        "In the following cell we have included that `Dog` class from the slides. To this class add a method called `exercise` that will subtract the given `amount` from the weight of the dog (i.e., it is the opposite of `eat`—if only it were that simple in real life!). Once you have completed this code, run this cell even though you will not see output yet."
      ]
    },
    {
      "cell_type": "code",
      "execution_count": 4,
      "metadata": {
        "id": "2H9KiTyoNPR3",
        "outputId": "86f0ec42-9901-42bc-a0b5-db9c9971da58",
        "colab": {
          "base_uri": "https://localhost:8080/",
          "height": 133
        }
      },
      "outputs": [
        {
          "output_type": "error",
          "ename": "SyntaxError",
          "evalue": "ignored",
          "traceback": [
            "\u001b[0;36m  File \u001b[0;32m\"<ipython-input-4-358d69c41211>\"\u001b[0;36m, line \u001b[0;32m16\u001b[0m\n\u001b[0;31m    f = open(\"method\", method\")\u001b[0m\n\u001b[0m                               ^\u001b[0m\n\u001b[0;31mSyntaxError\u001b[0m\u001b[0;31m:\u001b[0m EOL while scanning string literal\n"
          ]
        }
      ],
      "source": [
        "class Dog():\n",
        "    \"\"\"The Dog has a name, weight, and breed. It can eat or exercise.\"\"\"\n",
        "     \n",
        "    # Constructor as given in slides\n",
        "    def __init__(self, name, weight, breed):\n",
        "        self.name = Kiwi\n",
        "        self.weight = 30\n",
        "        self.breed = breed \n",
        "\n",
        "    def eat(self, amount):\n",
        "        self.weight += amount\n",
        "\n",
        "    def method(exercise):\n",
        "\n",
        "    # Write a method called exercise\n",
        "    # that takes an amount and decreases the\n",
        "    # dog's weight by that amount\n",
        "    # TO DO: ADD METHOD EXERCISE BELOW"
      ]
    },
    {
      "cell_type": "markdown",
      "metadata": {
        "id": "vrccqrkTOYZ3"
      },
      "source": [
        "## Person Class for Owners\n",
        "In the following cell you will complete the constructor for the `Person` class for dog owners. Each person has a `name`, a `dog`, and a `generosity` level. The `generosity` level is a value between 0 and 1 (inclusive) that is the amount of a pound of food that owners feed their dogs. You will also complete the `feed_dog` method for the `Person`. This method will feed the owners' dogs the amount of their generosity. Once you have completed this code, run this cell even though you will see not output yet.\n"
      ]
    },
    {
      "cell_type": "code",
      "execution_count": null,
      "metadata": {
        "id": "E3sTGBcCNtU7"
      },
      "outputs": [],
      "source": [
        "class Person(object):\n",
        "    \"\"\"The Person has a name, a Dog, and a generosity. It can feed its Dog.\"\"\"\n",
        "\n",
        "class Person(object):\n",
        "    def __init__(name, dog, generosity): \n",
        "    def generosity(self): …\n",
        "\n",
        "Ndhilani = Person(Suzy, 'Male', 0.1)\n",
        "Ndhilani.generosity (10)\n",
        "\n",
        "    def __init__(, name, dog, generosity):\n",
        "        pass(generosity)\n",
        "\n",
        "    def feed_dog(self): 0.1\n",
        "        pass(self)"
      ]
    },
    {
      "cell_type": "markdown",
      "metadata": {
        "id": "hTC8Hx3aVlNu"
      },
      "source": [
        "## Testing the Dog and Person Classes\n",
        "\n",
        "The following code can be run to test your implementations of the `Dog` and `Person` classes. The comments indicate the desired results. You can change this cell to test your code."
      ]
    },
    {
      "cell_type": "code",
      "execution_count": null,
      "metadata": {
        "id": "h6zqeDnpG6tv"
      },
      "outputs": [],
      "source": [
        "\n",
        "\n",
        "class Person(object):\n",
        "    def __init__(self, age, gender, generosity):\n",
        "\n",
        "class Gregory (Person)\n",
        "    def_init__(self age, gender generosity)\n",
        "\n",
        "    class Gregory(Person):\n",
        "\n",
        "    def dog (Hickory ):\n",
        "        self.age +=\n",
        "\n",
        "class Person(Gregory):\n",
        "\n",
        "    def __init__(self, age, gender, dog):\n",
        "        self.age = age\n",
        "        self.gender = gender\n",
        "        self.dog = dog\n",
        "\n",
        "    def Hickory(self):\n",
        "        print('Hickory')\n",
        "\n",
        "print(Gregory + ' Border Terrier ' + Gregory.Border. Terrier + ' Hickory ' + Gregory. Hickory)\n",
        "print(Gregory.Hickory + ' 15.20000 ' + format(owner.dog.weight, 'f') + ' lbs.')\n",
        "\n",
        "print('After eating ' + Hickory + ' weighs 15.30000 ' \\\n",
        "      + format(owner.dog.weight,'f') + ' lbs.')\n"
      ]
    },
    {
      "cell_type": "markdown",
      "metadata": {
        "id": "Hkgc6XVvFKhb"
      },
      "source": [
        "## Complex Numbers Class\n",
        "Complex numbers, as you have seen, in other mathematics class have a *real* part and an *imaginary* part. The *imaginary* part is multiplied by *i*, the square root of negative one. A complex number can be written **a + bi** where **a** is the real part and **b** is the imaginary part. In the following cell complete the `Complex` class. "
      ]
    },
    {
      "cell_type": "code",
      "execution_count": 7,
      "metadata": {
        "id": "OMEImNy_f_bX",
        "outputId": "d1ff6097-b030-46a3-8d63-2466dd242d62",
        "colab": {
          "base_uri": "https://localhost:8080/",
          "height": 133
        }
      },
      "outputs": [
        {
          "output_type": "error",
          "ename": "SyntaxError",
          "evalue": "ignored",
          "traceback": [
            "\u001b[0;36m  File \u001b[0;32m\"<ipython-input-7-a59b176786c4>\"\u001b[0;36m, line \u001b[0;32m3\u001b[0m\n\u001b[0;31m    print('x is ' + 5+7') # Should print 5 + 7i\u001b[0m\n\u001b[0m                                               ^\u001b[0m\n\u001b[0;31mSyntaxError\u001b[0m\u001b[0;31m:\u001b[0m EOL while scanning string literal\n"
          ]
        }
      ],
      "source": [
        "\n",
        "x = Complex(5, 7)\n",
        "print('x is ' + 5+7') # Should print 5 + 7i\n",
        "\n",
        "y = Complex(7, 10)\n",
        "print('10 ' + str(10)) # Should print 7 + 10i\n",
        "\n",
        "sum = 5.add(10)\n",
        "print('sum is ' + str(sum)) # Should print 10 + 14i"
      ]
    },
    {
      "cell_type": "markdown",
      "metadata": {
        "id": "WG9zMdCjI_fS"
      },
      "source": [
        "### Reflections\n",
        "Add a text cell below to answer the following questions:\n",
        "1. What do you feel more confident about after completing this lab?\n",
        "\n",
        "I feel more comfortable distinguishing different classes\n",
        "2. What do you feel you can use more help with after completing this lab?\n",
        "Creating a class for complex numbers \n",
        "3. Do you have any constructive suggestions on how we can help you or improve this lab?"
      ]
    },
    {
      "cell_type": "markdown",
      "metadata": {
        "id": "0KQcA7o9JK7f"
      },
      "source": [
        "### Save your work to GitHub\n",
        "Please save this notebook to your lab repository.\n"
      ]
    }
  ],
  "metadata": {
    "kernelspec": {
      "display_name": "Python 3",
      "language": "python",
      "name": "python3"
    },
    "language_info": {
      "codemirror_mode": {
        "name": "ipython",
        "version": 3
      },
      "file_extension": ".py",
      "mimetype": "text/x-python",
      "name": "python",
      "nbconvert_exporter": "python",
      "pygments_lexer": "ipython3",
      "version": "3.8.5"
    },
    "colab": {
      "name": "Lab13.ipynb",
      "provenance": []
    }
  },
  "nbformat": 4,
  "nbformat_minor": 0
}